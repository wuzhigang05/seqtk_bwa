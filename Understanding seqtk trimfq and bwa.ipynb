{
 "metadata": {
  "name": ""
 },
 "nbformat": 3,
 "nbformat_minor": 0,
 "worksheets": [
  {
   "cells": [
    {
     "cell_type": "code",
     "collapsed": false,
     "input": [
      "from Bio import SeqIO"
     ],
     "language": "python",
     "metadata": {},
     "outputs": [],
     "prompt_number": 5
    },
    {
     "cell_type": "markdown",
     "metadata": {},
     "source": [
      "This notebook is used to test, how seqtk trimfq works, specifically how -q and -l option works"
     ]
    },
    {
     "cell_type": "code",
     "collapsed": false,
     "input": [
      "ll"
     ],
     "language": "python",
     "metadata": {},
     "outputs": [
      {
       "output_type": "stream",
       "stream": "stdout",
       "text": [
        "total 72\r\n",
        "-rw-r--r--  1 zhigangwu  staff    226 Apr  3 10:11 README.md\r\n",
        "-rw-r--r--  1 zhigangwu  staff  14098 Apr  3 10:30 Understanding seqtk trimfq and bwa.ipynb\r\n",
        "-rw-r--r--  1 zhigangwu  staff    170 Apr  3 10:11 adaptor.fastq\r\n",
        "-rw-r--r--  1 zhigangwu  staff    430 Apr  3 10:28 lowQualAtTwoEnds.fastq\r\n",
        "-rw-r--r--  1 zhigangwu  staff    155 Apr  3 10:11 reference.fa\r\n",
        "-rw-r--r--  1 zhigangwu  staff    170 Apr  3 10:11 test.fastq\r\n"
       ]
      }
     ],
     "prompt_number": 6
    },
    {
     "cell_type": "markdown",
     "metadata": {},
     "source": [
      "see http://www.biopython.org/DIST/docs/api/Bio.SeqIO.QualityIO-module.html for explanation of differenct version of fastq"
     ]
    },
    {
     "cell_type": "code",
     "collapsed": false,
     "input": [
      "obj = SeqIO.parse(\"lowQualAtTwoEnds.fastq\", \"fastq\")\n",
      "rec = obj.next()\n",
      "rec2 = obj.next()\n",
      "rec3 = obj.next()"
     ],
     "language": "python",
     "metadata": {},
     "outputs": [],
     "prompt_number": 7
    },
    {
     "cell_type": "code",
     "collapsed": false,
     "input": [
      "rec.seq"
     ],
     "language": "python",
     "metadata": {},
     "outputs": [
      {
       "metadata": {},
       "output_type": "pyout",
       "prompt_number": 8,
       "text": [
        "Seq('AGATCGGAAGAGCTCGTATGCCGTCTTCTGCTTGAAAAAAAAAACAGACCAATCG', SingleLetterAlphabet())"
       ]
      }
     ],
     "prompt_number": 8
    },
    {
     "cell_type": "code",
     "collapsed": false,
     "input": [
      "print rec.letter_annotations.values()[0]"
     ],
     "language": "python",
     "metadata": {},
     "outputs": [
      {
       "output_type": "stream",
       "stream": "stdout",
       "text": [
        "[2, 2, 2, 38, 39, 39, 37, 2, 16, 39, 27, 37, 38, 37, 38, 38, 36, 23, 38, 35, 38, 38, 38, 37, 38, 39, 38, 39, 35, 39, 39, 39, 39, 35, 39, 39, 35, 36, 33, 37, 32, 32, 2, 2, 2, 2, 2, 2, 2, 2, 2, 2, 2, 2, 2]\n"
       ]
      }
     ],
     "prompt_number": 9
    },
    {
     "cell_type": "code",
     "collapsed": false,
     "input": [
      "print rec2.letter_annotations.values()[0]"
     ],
     "language": "python",
     "metadata": {},
     "outputs": [
      {
       "output_type": "stream",
       "stream": "stdout",
       "text": [
        "[2, 2, 2, 38, 39, 39, 37, 2, 12, 39, 27, 37, 38, 37, 38, 38, 36, 23, 38, 35, 38, 38, 38, 37, 38, 39, 38, 39, 35, 39, 39, 39, 39, 35, 39, 39, 35, 36, 33, 37, 32, 32, 2, 2, 2, 2, 2, 2, 2, 2, 2, 2, 2, 2, 2]\n"
       ]
      }
     ],
     "prompt_number": 10
    },
    {
     "cell_type": "code",
     "collapsed": false,
     "input": [
      "rec3.seq, len(rec3)"
     ],
     "language": "python",
     "metadata": {},
     "outputs": [
      {
       "metadata": {},
       "output_type": "pyout",
       "prompt_number": 11,
       "text": [
        "(Seq('AAAACAGACCAATCG', SingleLetterAlphabet()), 15)"
       ]
      }
     ],
     "prompt_number": 11
    },
    {
     "cell_type": "code",
     "collapsed": false,
     "input": [
      "cat lowQualAtTwoEnds.fastq"
     ],
     "language": "python",
     "metadata": {},
     "outputs": [
      {
       "output_type": "stream",
       "stream": "stdout",
       "text": [
        "@SRR501584.3170956 length=55\r\n",
        "AGATCGGAAGAGCTCGTATGCCGTCTTCTGCTTGAAAAAAAAAACAGACCAATCG\r\n",
        "+SRR501584.3170956 length=55\r\n",
        "###GHHF#1H<FGFGGE8GDGGGFGHGHDHHHHDHHDEBFAA#############\r\n",
        "@SRR501584.3170957 length=55\r\n",
        "AGATCGGAAGAGCTCGTATGCCGTCTTCTGCTTGAAAAAAAAAACAGACCAATCG\r\n",
        "+SRR501584.3170957 length=55\r\n",
        "###GHHF#-H<FGFGGE8GDGGGFGHGHDHHHHDHHDEBFAA#############\r\n",
        "@SRR501584.3170958 length=55\r\n",
        "AAAACAGACCAATCG\r\n",
        "+SRR501584.3170958 length=55\r\n",
        "HGHDHHHHDHHDEBF\r\n"
       ]
      }
     ],
     "prompt_number": 12
    },
    {
     "cell_type": "code",
     "collapsed": false,
     "input": [
      "!seqtk trimfq lowQualAtTwoEnds.fastq"
     ],
     "language": "python",
     "metadata": {},
     "outputs": [
      {
       "output_type": "stream",
       "stream": "stdout",
       "text": [
        "@SRR501584.3170956 length=55\r\n",
        "AGAGCTCGTATGCCGTCTTCTGCTTGAAAAAAAA\r\n",
        "+\r\n",
        "1H<FGFGGE8GDGGGFGHGHDHHHHDHHDEBFAA\r\n",
        "@SRR501584.3170957 length=55\r\n",
        "GAGCTCGTATGCCGTCTTCTGCTTGAAAAAAAA\r\n",
        "+\r\n",
        "H<FGFGGE8GDGGGFGHGHDHHHHDHHDEBFAA\r\n",
        "@SRR501584.3170958 length=55\r\n",
        "AAAACAGACCAATCG\r\n",
        "+\r\n",
        "HGHDHHHHDHHDEBF\r\n"
       ]
      }
     ],
     "prompt_number": 13
    },
    {
     "cell_type": "code",
     "collapsed": false,
     "input": [
      "len('AGAGCTCGTATGCCGTCTTCTGCTTGAAAAAAAA')"
     ],
     "language": "python",
     "metadata": {},
     "outputs": [
      {
       "metadata": {},
       "output_type": "pyout",
       "prompt_number": 74,
       "text": [
        "34"
       ]
      }
     ],
     "prompt_number": 74
    },
    {
     "cell_type": "markdown",
     "metadata": {},
     "source": [
      "In below you can see that the -l option is the length guarantee be retained, even though the \n",
      "retained bases may have error probability higher than 0.05"
     ]
    },
    {
     "cell_type": "code",
     "collapsed": false,
     "input": [
      "!seqtk trimfq -l 35 -q 0.05 lowQualAtTwoEnds.fastq"
     ],
     "language": "python",
     "metadata": {},
     "outputs": [
      {
       "output_type": "stream",
       "stream": "stdout",
       "text": [
        "@SRR501584.3170956 length=55\r\n",
        "TCGGAAGAGCTCGTATGCCGTCTTCTGCTTGAAAA\r\n",
        "+\r\n",
        "GHHF#1H<FGFGGE8GDGGGFGHGHDHHHHDHHDE\r\n",
        "@SRR501584.3170957 length=55\r\n",
        "TCGGAAGAGCTCGTATGCCGTCTTCTGCTTGAAAA\r\n",
        "+\r\n",
        "GHHF#-H<FGFGGE8GDGGGFGHGHDHHHHDHHDE\r\n",
        "@SRR501584.3170958 length=55\r\n",
        "AAAACAGACCAATCG\r\n",
        "+\r\n",
        "HGHDHHHHDHHDEBF\r\n"
       ]
      }
     ],
     "prompt_number": 14
    },
    {
     "cell_type": "code",
     "collapsed": false,
     "input": [
      "len('AGAGCTCGTATGCCGTCTTCTGCTTGAAAAAAAA')"
     ],
     "language": "python",
     "metadata": {},
     "outputs": [
      {
       "metadata": {},
       "output_type": "pyout",
       "prompt_number": 73,
       "text": [
        "34"
       ]
      }
     ],
     "prompt_number": 73
    },
    {
     "cell_type": "heading",
     "level": 1,
     "metadata": {},
     "source": [
      "Below, I want to test if adaptors were not being removed from reads before aligning reads \n",
      "to reference using two aligners: bwa and bowtie"
     ]
    },
    {
     "cell_type": "code",
     "collapsed": false,
     "input": [
      "# cp test.fastq adaptor.fastq\n",
      "# and do some editing to adaptor.fastq"
     ],
     "language": "python",
     "metadata": {},
     "outputs": []
    },
    {
     "cell_type": "code",
     "collapsed": false,
     "input": [
      "cat test.fastq"
     ],
     "language": "python",
     "metadata": {},
     "outputs": [
      {
       "output_type": "stream",
       "stream": "stdout",
       "text": [
        "@SRR501584.3170956 length=55\r\n",
        "AGATCGGAAGAGCTCGTATGCCGTCTTCTGCTTGAAAAAAAAAACAGACCAATCG\r\n",
        "+SRR501584.3170956 length=55\r\n",
        "HHHGHHFHHH<FGFGGE8GDGGGFGHGHDHHHHDHHDEBFAA#############\r\n"
       ]
      }
     ],
     "prompt_number": 80
    },
    {
     "cell_type": "code",
     "collapsed": false,
     "input": [
      "cat adaptor.fastq"
     ],
     "language": "python",
     "metadata": {},
     "outputs": [
      {
       "output_type": "stream",
       "stream": "stdout",
       "text": [
        "@SRR501584.3170956 length=55\r\n",
        "NNNNNNNNNNNGCTCGTATGCCGTCTTCTGCTTGAAAAAAAAAACNNNNNNNNNN\r\n",
        "+SRR501584.3170956 length=55\r\n",
        "HHHGHHFHHH<FGFGGE8GDGGGFGHGHDHHHHDHHDEBFAA#############\r\n"
       ]
      }
     ],
     "prompt_number": 81
    },
    {
     "cell_type": "raw",
     "metadata": {},
     "source": [
      "Below is the bwa version I used in this test"
     ]
    },
    {
     "cell_type": "code",
     "collapsed": false,
     "input": [
      "!bwa 2>&1 | head -n3"
     ],
     "language": "python",
     "metadata": {},
     "outputs": [
      {
       "output_type": "stream",
       "stream": "stdout",
       "text": [
        "\r\n",
        "Program: bwa (alignment via Burrows-Wheeler transformation)\r\n",
        "Version: 0.7.8-r455\r\n"
       ]
      }
     ],
     "prompt_number": 82
    },
    {
     "cell_type": "code",
     "collapsed": false,
     "input": [
      "!diff test.fastq reference.fa"
     ],
     "language": "python",
     "metadata": {},
     "outputs": [
      {
       "output_type": "stream",
       "stream": "stdout",
       "text": [
        "1c1\r\n",
        "< @SRR501584.3170956 length=55\r\n",
        "---\r\n",
        "> >pseudoGenome\r\n"
       ]
      }
     ],
     "prompt_number": 84
    },
    {
     "cell_type": "code",
     "collapsed": false,
     "input": [
      "!bwa index reference.fa"
     ],
     "language": "python",
     "metadata": {},
     "outputs": [
      {
       "output_type": "stream",
       "stream": "stdout",
       "text": [
        "[bwa_index] Pack FASTA... 0.00 sec\r\n",
        "[bwa_index] Construct BWT for the packed sequence...\r\n",
        "[bwa_index] 0.00 seconds elapse.\r\n",
        "[bwa_index] Update BWT... 0.00 sec\r\n",
        "[bwa_index] Pack forward-only FASTA... 0.00 sec\r\n",
        "[bwa_index] Construct SA from BWT and Occ... 0.00 sec\r\n",
        "[main] Version: 0.7.8-r455\r\n",
        "[main] CMD: bwa index reference.fa\r\n",
        "[main] Real time: 0.003 sec; CPU: 0.013 sec\r\n"
       ]
      }
     ],
     "prompt_number": 86
    },
    {
     "cell_type": "code",
     "collapsed": true,
     "input": [
      "!bwa mem reference.fa adaptor.fastq"
     ],
     "language": "python",
     "metadata": {},
     "outputs": [
      {
       "output_type": "stream",
       "stream": "stdout",
       "text": [
        "@SQ\tSN:pseudoGenome\tLN:55\r\n",
        "@PG\tID:bwa\tPN:bwa\tVN:0.7.8-r455\tCL:bwa mem reference.fa adaptor.fastq\r\n",
        "[M::main_mem] read 1 sequences (55 bp)...\r\n",
        "[M::mem_process_seqs] Processed 1 reads in 0.000 CPU sec, 0.000 real sec\r\n",
        "SRR501584.3170956\t0\tpseudoGenome\t12\t60\t11S34M10S\t*\t0\t0\tNNNNNNNNNNNGCTCGTATGCCGTCTTCTGCTTGAAAAAAAAAACNNNNNNNNNN\tHHHGHHFHHH<FGFGGE8GDGGGFGHGHDHHHHDHHDEBFAA#############\tNM:i:0\tMD:Z:34\tAS:i:34\tXS:i:0\r\n",
        "[main] Version: 0.7.8-r455\r\n",
        "[main] CMD: bwa mem reference.fa adaptor.fastq\r\n",
        "[main] Real time: 0.001 sec; CPU: 0.010 sec\r\n"
       ]
      }
     ],
     "prompt_number": 87
    },
    {
     "cell_type": "raw",
     "metadata": {},
     "source": [
      "Conclusion: as you can see below, leaving adaptor in the reads untrimmed DOES NOT prevent them from being \n",
      "mapped to genome (The adaptors are being soft clipped) using BWA."
     ]
    },
    {
     "cell_type": "code",
     "collapsed": false,
     "input": [
      "!bowtie --version"
     ],
     "language": "python",
     "metadata": {},
     "outputs": [
      {
       "output_type": "stream",
       "stream": "stdout",
       "text": [
        "bowtie version 1.0.1\r\n",
        "64-bit\r\n",
        "Built on imac5.ebalto.jhmi.edu\r\n",
        "Thu Mar 20 12:03:59 EDT 2014\r\n",
        "Compiler: gcc version 4.2.1 (Based on Apple Inc. build 5658) (LLVM build 2336.11.00)\r\n",
        "Options: -O3 -m64  -DPOPCNT_CAPABILITY -Wl,-macosx_version_min,10.6  \r\n",
        "Sizeof {int, long, long long, void*, size_t, off_t}: {4, 8, 8, 8, 8, 8}\r\n"
       ]
      }
     ],
     "prompt_number": 1
    },
    {
     "cell_type": "code",
     "collapsed": false,
     "input": [
      "!bowtie-build reference.fa reference.fa"
     ],
     "language": "python",
     "metadata": {},
     "outputs": [
      {
       "output_type": "stream",
       "stream": "stdout",
       "text": [
        "Settings:\r\n",
        "  Output files: \"reference.fa.*.ebwt\"\r\n",
        "  Line rate: 6 (line is 64 bytes)\r\n",
        "  Lines per side: 1 (side is 64 bytes)\r\n",
        "  Offset rate: 5 (one in 32)\r\n",
        "  FTable chars: 10\r\n",
        "  Strings: unpacked\r\n",
        "  Max bucket size: default\r\n",
        "  Max bucket size, sqrt multiplier: default\r\n",
        "  Max bucket size, len divisor: 4\r\n",
        "  Difference-cover sample period: 1024\r\n",
        "  Endianness: little\r\n",
        "  Actual local endianness: little\r\n",
        "  Sanity checking: disabled\r\n",
        "  Assertions: disabled\r\n",
        "  Random seed: 0\r\n",
        "  Sizeofs: void*:8, int:4, long:8, size_t:8\r\n",
        "Input files DNA, FASTA:\r\n",
        "  reference.fa\r\n",
        "Reading reference sizes\r\n",
        "  Time reading reference sizes: 00:00:00\r\n",
        "Calculating joined length\r\n",
        "Writing header\r\n",
        "Reserving space for joined string\r\n",
        "Joining reference sequences\r\n",
        "  Time to join reference sequences: 00:00:00\r\n",
        "bmax according to bmaxDivN setting: 17\r\n",
        "Using parameters --bmax 13 --dcv 1024\r\n",
        "  Doing ahead-of-time memory usage test\r\n"
       ]
      },
      {
       "output_type": "stream",
       "stream": "stdout",
       "text": [
        "  Passed!  Constructing with these parameters: --bmax 13 --dcv 1024\r\n",
        "Constructing suffix-array element generator\r\n",
        "Building DifferenceCoverSample\r\n",
        "  Building sPrime\r\n",
        "  Building sPrimeOrder\r\n",
        "  V-Sorting samples\r\n",
        "  V-Sorting samples time: 00:00:00\r\n",
        "  Allocating rank array\r\n",
        "  Ranking v-sort output\r\n",
        "  Ranking v-sort output time: 00:00:00\r\n",
        "  Invoking Larsson-Sadakane on ranks\r\n",
        "  Invoking Larsson-Sadakane on ranks time: 00:00:00\r\n",
        "  Sanity-checking and returning\r\n",
        "Building samples\r\n",
        "Reserving space for 12 sample suffixes\r\n",
        "Generating random suffixes\r\n",
        "QSorting 12 sample offsets, eliminating duplicates\r\n",
        "QSorting sample offsets, eliminating duplicates time: 00:00:00\r\n",
        "Multikey QSorting 10 samples\r\n",
        "  (Using difference cover)\r\n",
        "  Multikey QSorting samples time: 00:00:00\r\n",
        "Calculating bucket sizes\r\n",
        "  Binary sorting into buckets\r\n",
        "  10%\r\n",
        "  20%\r\n",
        "  30%\r\n",
        "  40%\r\n",
        "  50%\r\n",
        "  60%\r\n",
        "  70%\r\n",
        "  80%\r\n",
        "  90%\r\n",
        "  100%\r\n",
        "  Binary sorting into buckets time: 00:00:00\r\n",
        "Splitting and merging\r\n",
        "  Splitting and merging time: 00:00:00\r\n",
        "Split 1, merged 5; iterating...\r\n",
        "  Binary sorting into buckets\r\n",
        "  10%\r\n",
        "  20%\r\n",
        "  30%\r\n",
        "  40%\r\n",
        "  50%\r\n",
        "  60%\r\n",
        "  70%\r\n",
        "  80%\r\n",
        "  90%\r\n",
        "  100%\r\n",
        "  Binary sorting into buckets time: 00:00:00\r\n",
        "Splitting and merging\r\n",
        "  Splitting and merging time: 00:00:00\r\n",
        "Avg bucket size: 10.6667 (target: 12)\r\n",
        "Converting suffix-array elements to index image\r\n",
        "Allocating ftab, absorbFtab\r\n",
        "Entering Ebwt loop\r\n",
        "Getting block 1 of 6\r\n",
        "  Reserving size (13) for bucket\r\n",
        "  Calculating Z arrays\r\n",
        "  Calculating Z arrays time: 00:00:00\r\n",
        "  Entering block accumulator loop:\r\n",
        "  10%\r\n",
        "  20%\r\n",
        "  30%\r\n",
        "  40%\r\n",
        "  50%\r\n",
        "  60%\r\n",
        "  70%\r\n",
        "  80%\r\n",
        "  90%\r\n",
        "  100%\r\n",
        "  Block accumulator loop time: 00:00:00\r\n",
        "  Sorting block of length 12\r\n",
        "  (Using difference cover)\r\n",
        "  Sorting block time: 00:00:00\r\n",
        "Returning block of 13\r\n",
        "Getting block 2 of 6\r\n",
        "  Reserving size (13) for bucket\r\n",
        "  Calculating Z arrays\r\n",
        "  Calculating Z arrays time: 00:00:00\r\n",
        "  Entering block accumulator loop:\r\n",
        "  10%\r\n",
        "  20%\r\n",
        "  30%\r\n",
        "  40%\r\n",
        "  50%\r\n",
        "  60%\r\n",
        "  70%\r\n",
        "  80%\r\n",
        "  90%\r\n",
        "  100%\r\n",
        "  Block accumulator loop time: 00:00:00\r\n",
        "  Sorting block of length 12\r\n",
        "  (Using difference cover)\r\n",
        "  Sorting block time: 00:00:00\r\n",
        "Returning block of 13\r\n",
        "Getting block 3 of 6\r\n",
        "  Reserving size (13) for bucket\r\n",
        "  Calculating Z arrays\r\n",
        "  Calculating Z arrays time: 00:00:00\r\n",
        "  Entering block accumulator loop:\r\n",
        "  10%\r\n",
        "  20%\r\n",
        "  30%\r\n",
        "  40%\r\n",
        "  50%\r\n",
        "  60%\r\n",
        "  70%\r\n",
        "  80%\r\n",
        "  90%\r\n",
        "  100%\r\n",
        "  Block accumulator loop time: 00:00:00\r\n",
        "  Sorting block of length 12\r\n",
        "  (Using difference cover)\r\n",
        "  Sorting block time: 00:00:00\r\n",
        "Returning block of 13\r\n",
        "Getting block 4 of 6\r\n",
        "  Reserving size (13) for bucket\r\n",
        "  Calculating Z arrays\r\n",
        "  Calculating Z arrays time: 00:00:00\r\n",
        "  Entering block accumulator loop:\r\n",
        "  10%\r\n",
        "  20%\r\n",
        "  30%\r\n",
        "  40%\r\n",
        "  50%\r\n",
        "  60%\r\n",
        "  70%\r\n",
        "  80%\r\n",
        "  90%\r\n",
        "  100%\r\n",
        "  Block accumulator loop time: 00:00:00\r\n",
        "  Sorting block of length 8\r\n",
        "  (Using difference cover)\r\n",
        "  Sorting block time: 00:00:00\r\n",
        "Returning block of 9\r\n",
        "Getting block 5 of 6\r\n",
        "  Reserving size (13) for bucket\r\n",
        "  Calculating Z arrays\r\n",
        "  Calculating Z arrays time: 00:00:00\r\n",
        "  Entering block accumulator loop:\r\n",
        "  10%\r\n",
        "  20%\r\n",
        "  30%\r\n",
        "  40%\r\n",
        "  50%\r\n",
        "  60%\r\n",
        "  70%\r\n",
        "  80%\r\n",
        "  90%\r\n",
        "  100%\r\n",
        "  Block accumulator loop time: 00:00:00\r\n",
        "  Sorting block of length 9\r\n",
        "  (Using difference cover)\r\n",
        "  Sorting block time: 00:00:00\r\n",
        "Returning block of 10\r\n",
        "Getting block 6 of 6\r\n",
        "  Reserving size (13) for bucket\r\n",
        "  Calculating Z arrays\r\n",
        "  Calculating Z arrays time: 00:00:00\r\n",
        "  Entering block accumulator loop:\r\n",
        "  10%\r\n",
        "  20%\r\n",
        "  30%\r\n",
        "  40%\r\n",
        "  50%\r\n",
        "  60%\r\n",
        "  70%\r\n",
        "  80%\r\n",
        "  90%\r\n",
        "  100%\r\n",
        "  Block accumulator loop time: 00:00:00\r\n",
        "  Sorting block of length 11\r\n",
        "  (Using difference cover)\r\n",
        "  Sorting block time: 00:00:00\r\n",
        "Returning block of 12\r\n",
        "Exited Ebwt loop\r\n",
        "fchr[A]: 0\r\n",
        "fchr[C]: 22\r\n",
        "fchr[G]: 34\r\n",
        "fchr[T]: 57\r\n",
        "fchr[$]: 69\r\n"
       ]
      },
      {
       "output_type": "stream",
       "stream": "stdout",
       "text": [
        "Exiting Ebwt::buildToDisk()\r\n",
        "Returning from initFromVector\r\n",
        "Wrote 4194678 bytes to primary EBWT file: reference.fa.1.ebwt\r\n",
        "Wrote 16 bytes to secondary EBWT file: reference.fa.2.ebwt\r\n",
        "Re-opening _in1 and _in2 as input streams\r\n",
        "Returning from Ebwt constructor\r\n",
        "Headers:\r\n",
        "    len: 69\r\n",
        "    bwtLen: 70\r\n",
        "    sz: 18\r\n",
        "    bwtSz: 18\r\n",
        "    lineRate: 6\r\n",
        "    linesPerSide: 1\r\n",
        "    offRate: 5\r\n",
        "    offMask: 0xffffffe0\r\n",
        "    isaRate: -1\r\n",
        "    isaMask: 0xffffffff\r\n",
        "    ftabChars: 10\r\n",
        "    eftabLen: 20\r\n",
        "    eftabSz: 80\r\n",
        "    ftabLen: 1048577\r\n",
        "    ftabSz: 4194308\r\n",
        "    offsLen: 3\r\n",
        "    offsSz: 12\r\n",
        "    isaLen: 0\r\n",
        "    isaSz: 0\r\n",
        "    lineSz: 64\r\n",
        "    sideSz: 64\r\n",
        "    sideBwtSz: 56\r\n",
        "    sideBwtLen: 224\r\n",
        "    numSidePairs: 1\r\n",
        "    numSides: 2\r\n",
        "    numLines: 2\r\n",
        "    ebwtTotLen: 128\r\n",
        "    ebwtTotSz: 128\r\n",
        "    reverse: 0\r\n",
        "Total time for call to driver() for forward index: 00:00:00\r\n",
        "Reading reference sizes\r\n",
        "  Time reading reference sizes: 00:00:00\r\n",
        "Calculating joined length\r\n",
        "Writing header\r\n",
        "Reserving space for joined string\r\n",
        "Joining reference sequences\r\n",
        "  Time to join reference sequences: 00:00:00\r\n",
        "bmax according to bmaxDivN setting: 17\r\n",
        "Using parameters --bmax 13 --dcv 1024\r\n",
        "  Doing ahead-of-time memory usage test\r\n"
       ]
      },
      {
       "output_type": "stream",
       "stream": "stdout",
       "text": [
        "  Passed!  Constructing with these parameters: --bmax 13 --dcv 1024\r\n"
       ]
      },
      {
       "output_type": "stream",
       "stream": "stdout",
       "text": [
        "Constructing suffix-array element generator\r\n",
        "Building DifferenceCoverSample\r\n",
        "  Building sPrime\r\n",
        "  Building sPrimeOrder\r\n",
        "  V-Sorting samples\r\n",
        "  V-Sorting samples time: 00:00:00\r\n",
        "  Allocating rank array\r\n",
        "  Ranking v-sort output\r\n",
        "  Ranking v-sort output time: 00:00:00\r\n",
        "  Invoking Larsson-Sadakane on ranks\r\n",
        "  Invoking Larsson-Sadakane on ranks time: 00:00:00\r\n",
        "  Sanity-checking and returning\r\n",
        "Building samples\r\n",
        "Reserving space for 12 sample suffixes\r\n",
        "Generating random suffixes\r\n",
        "QSorting 12 sample offsets, eliminating duplicates\r\n",
        "QSorting sample offsets, eliminating duplicates time: 00:00:00\r\n",
        "Multikey QSorting 10 samples\r\n",
        "  (Using difference cover)\r\n",
        "  Multikey QSorting samples time: 00:00:00\r\n",
        "Calculating bucket sizes\r\n",
        "  Binary sorting into buckets\r\n",
        "  10%\r\n",
        "  20%\r\n",
        "  30%\r\n",
        "  40%\r\n",
        "  50%\r\n",
        "  60%\r\n",
        "  70%\r\n",
        "  80%\r\n",
        "  90%\r\n",
        "  100%\r\n",
        "  Binary sorting into buckets time: 00:00:00\r\n",
        "Splitting and merging\r\n",
        "  Splitting and merging time: 00:00:00\r\n",
        "Split 1, merged 4; iterating...\r\n",
        "  Binary sorting into buckets\r\n",
        "  10%\r\n",
        "  20%\r\n",
        "  30%\r\n",
        "  40%\r\n",
        "  50%\r\n",
        "  60%\r\n",
        "  70%\r\n",
        "  80%\r\n",
        "  90%\r\n",
        "  100%\r\n",
        "  Binary sorting into buckets time: 00:00:00\r\n",
        "Splitting and merging\r\n",
        "  Splitting and merging time: 00:00:00\r\n",
        "Avg bucket size: 7.75 (target: 12)\r\n",
        "Converting suffix-array elements to index image\r\n",
        "Allocating ftab, absorbFtab\r\n",
        "Entering Ebwt loop\r\n",
        "Getting block 1 of 8\r\n",
        "  Reserving size (13) for bucket\r\n",
        "  Calculating Z arrays\r\n",
        "  Calculating Z arrays time: 00:00:00\r\n",
        "  Entering block accumulator loop:\r\n",
        "  10%\r\n",
        "  20%\r\n",
        "  30%\r\n",
        "  40%\r\n",
        "  50%\r\n",
        "  60%\r\n",
        "  70%\r\n",
        "  80%\r\n",
        "  90%\r\n",
        "  100%\r\n",
        "  Block accumulator loop time: 00:00:00\r\n",
        "  Sorting block of length 12\r\n",
        "  (Using difference cover)\r\n",
        "  Sorting block time: 00:00:00\r\n",
        "Returning block of 13\r\n",
        "Getting block 2 of 8\r\n",
        "  Reserving size (13) for bucket\r\n",
        "  Calculating Z arrays\r\n",
        "  Calculating Z arrays time: 00:00:00\r\n",
        "  Entering block accumulator loop:\r\n",
        "  10%\r\n",
        "  20%\r\n",
        "  30%\r\n",
        "  40%\r\n",
        "  50%\r\n",
        "  60%\r\n",
        "  70%\r\n",
        "  80%\r\n",
        "  90%\r\n",
        "  100%\r\n",
        "  Block accumulator loop time: 00:00:00\r\n",
        "  Sorting block of length 10\r\n",
        "  (Using difference cover)\r\n",
        "  Sorting block time: 00:00:00\r\n",
        "Returning block of 11\r\n",
        "Getting block 3 of 8\r\n",
        "  Reserving size (13) for bucket\r\n",
        "  Calculating Z arrays\r\n",
        "  Calculating Z arrays time: 00:00:00\r\n",
        "  Entering block accumulator loop:\r\n",
        "  10%\r\n",
        "  20%\r\n",
        "  30%\r\n",
        "  40%\r\n",
        "  50%\r\n",
        "  60%\r\n",
        "  70%\r\n",
        "  80%\r\n",
        "  90%\r\n",
        "  100%\r\n",
        "  Block accumulator loop time: 00:00:00\r\n",
        "  Sorting block of length 7\r\n",
        "  (Using difference cover)\r\n",
        "  Sorting block time: 00:00:00\r\n",
        "Returning block of 8\r\n",
        "Getting block 4 of 8\r\n",
        "  Reserving size (13) for bucket\r\n",
        "  Calculating Z arrays\r\n",
        "  Calculating Z arrays time: 00:00:00\r\n",
        "  Entering block accumulator loop:\r\n",
        "  10%\r\n",
        "  20%\r\n",
        "  30%\r\n",
        "  40%\r\n",
        "  50%\r\n",
        "  60%\r\n",
        "  70%\r\n",
        "  80%\r\n",
        "  90%\r\n",
        "  100%\r\n",
        "  Block accumulator loop time: 00:00:00\r\n",
        "  Sorting block of length 5\r\n",
        "  (Using difference cover)\r\n",
        "  Sorting block time: 00:00:00\r\n",
        "Returning block of 6\r\n",
        "Getting block 5 of 8\r\n",
        "  Reserving size (13) for bucket\r\n",
        "  Calculating Z arrays\r\n",
        "  Calculating Z arrays time: 00:00:00\r\n",
        "  Entering block accumulator loop:\r\n",
        "  10%\r\n",
        "  20%\r\n",
        "  30%\r\n",
        "  40%\r\n",
        "  50%\r\n",
        "  60%\r\n",
        "  70%\r\n",
        "  80%\r\n",
        "  90%\r\n",
        "  100%\r\n",
        "  Block accumulator loop time: 00:00:00\r\n",
        "  Sorting block of length 9\r\n",
        "  (Using difference cover)\r\n",
        "  Sorting block time: 00:00:00\r\n",
        "Returning block of 10\r\n",
        "Getting block 6 of 8\r\n",
        "  Reserving size (13) for bucket\r\n",
        "  Calculating Z arrays\r\n",
        "  Calculating Z arrays time: 00:00:00\r\n",
        "  Entering block accumulator loop:\r\n",
        "  10%\r\n",
        "  20%\r\n",
        "  30%\r\n",
        "  40%\r\n",
        "  50%\r\n",
        "  60%\r\n",
        "  70%\r\n",
        "  80%\r\n",
        "  90%\r\n",
        "  100%\r\n",
        "  Block accumulator loop time: 00:00:00\r\n",
        "  Sorting block of length 7\r\n",
        "  (Using difference cover)\r\n",
        "  Sorting block time: 00:00:00\r\n",
        "Returning block of 8\r\n",
        "Getting block 7 of 8\r\n",
        "  Reserving size (13) for bucket\r\n",
        "  Calculating Z arrays\r\n",
        "  Calculating Z arrays time: 00:00:00\r\n",
        "  Entering block accumulator loop:\r\n",
        "  10%\r\n",
        "  20%\r\n",
        "  30%\r\n",
        "  40%\r\n",
        "  50%\r\n",
        "  60%\r\n",
        "  70%\r\n",
        "  80%\r\n",
        "  90%\r\n",
        "  100%\r\n",
        "  Block accumulator loop time: 00:00:00\r\n",
        "  Sorting block of length 6\r\n",
        "  (Using difference cover)\r\n",
        "  Sorting block time: 00:00:00\r\n",
        "Returning block of 7\r\n",
        "Getting block 8 of 8\r\n",
        "  Reserving size (13) for bucket\r\n",
        "  Calculating Z arrays\r\n",
        "  Calculating Z arrays time: 00:00:00\r\n",
        "  Entering block accumulator loop:\r\n",
        "  10%\r\n",
        "  20%\r\n",
        "  30%\r\n",
        "  40%\r\n",
        "  50%\r\n",
        "  60%\r\n",
        "  70%\r\n",
        "  80%\r\n",
        "  90%\r\n",
        "  100%\r\n",
        "  Block accumulator loop time: 00:00:00\r\n",
        "  Sorting block of length 6\r\n",
        "  (Using difference cover)\r\n",
        "  Sorting block time: 00:00:00\r\n",
        "Returning block of 7\r\n",
        "Exited Ebwt loop\r\n",
        "fchr[A]: 0\r\n",
        "fchr[C]: 22\r\n",
        "fchr[G]: 34\r\n",
        "fchr[T]: 57\r\n",
        "fchr[$]: 69\r\n"
       ]
      },
      {
       "output_type": "stream",
       "stream": "stdout",
       "text": [
        "Exiting Ebwt::buildToDisk()\r\n",
        "Returning from initFromVector\r\n",
        "Wrote 4194678 bytes to primary EBWT file: reference.fa.rev.1.ebwt\r\n",
        "Wrote 16 bytes to secondary EBWT file: reference.fa.rev.2.ebwt\r\n",
        "Re-opening _in1 and _in2 as input streams\r\n",
        "Returning from Ebwt constructor\r\n",
        "Headers:\r\n",
        "    len: 69\r\n",
        "    bwtLen: 70\r\n",
        "    sz: 18\r\n",
        "    bwtSz: 18\r\n",
        "    lineRate: 6\r\n",
        "    linesPerSide: 1\r\n",
        "    offRate: 5\r\n",
        "    offMask: 0xffffffe0\r\n",
        "    isaRate: -1\r\n",
        "    isaMask: 0xffffffff\r\n",
        "    ftabChars: 10\r\n",
        "    eftabLen: 20\r\n",
        "    eftabSz: 80\r\n",
        "    ftabLen: 1048577\r\n",
        "    ftabSz: 4194308\r\n",
        "    offsLen: 3\r\n",
        "    offsSz: 12\r\n",
        "    isaLen: 0\r\n",
        "    isaSz: 0\r\n",
        "    lineSz: 64\r\n",
        "    sideSz: 64\r\n",
        "    sideBwtSz: 56\r\n",
        "    sideBwtLen: 224\r\n",
        "    numSidePairs: 1\r\n",
        "    numSides: 2\r\n",
        "    numLines: 2\r\n",
        "    ebwtTotLen: 128\r\n",
        "    ebwtTotSz: 128\r\n",
        "    reverse: 0\r\n",
        "Total time for backward call to driver() for mirror index: 00:00:00\r\n"
       ]
      }
     ],
     "prompt_number": 16
    },
    {
     "cell_type": "code",
     "collapsed": false,
     "input": [
      "!bowtie -v3  reference.fa -q adaptor.fastq"
     ],
     "language": "python",
     "metadata": {},
     "outputs": [
      {
       "output_type": "stream",
       "stream": "stdout",
       "text": [
        "# reads processed: 1\r\n",
        "# reads with at least one reported alignment: 0 (0.00%)\r\n",
        "# reads that failed to align: 1 (100.00%)\r\n",
        "No alignments\r\n"
       ]
      }
     ],
     "prompt_number": 17
    },
    {
     "cell_type": "code",
     "collapsed": false,
     "input": [
      "!bowtie -v3  reference.fa adaptor.fastq"
     ],
     "language": "python",
     "metadata": {},
     "outputs": [
      {
       "output_type": "stream",
       "stream": "stdout",
       "text": [
        "# reads processed: 1\r\n",
        "# reads with at least one reported alignment: 0 (0.00%)\r\n",
        "# reads that failed to align: 1 (100.00%)\r\n",
        "No alignments\r\n"
       ]
      }
     ],
     "prompt_number": 18
    },
    {
     "cell_type": "markdown",
     "metadata": {},
     "source": [
      "Conclusion: as you can see below, leaving adaptor in the reads untrimmed DOES prevent them from being \n",
      "mapped to genome (The adaptors are being soft clipped) using BWA."
     ]
    }
   ],
   "metadata": {}
  }
 ]
}