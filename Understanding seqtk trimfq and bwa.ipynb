{
 "metadata": {
  "name": ""
 },
 "nbformat": 3,
 "nbformat_minor": 0,
 "worksheets": [
  {
   "cells": [
    {
     "cell_type": "code",
     "collapsed": false,
     "input": [
      "from Bio import SeqIOfrom Bio import SeqIO"
     ],
     "language": "python",
     "metadata": {},
     "outputs": [],
     "prompt_number": 45
    },
    {
     "cell_type": "markdown",
     "metadata": {},
     "source": [
      "This notebook is used to test, how seqtk trimfq works, specifically how -q and -l option works"
     ]
    },
    {
     "cell_type": "code",
     "collapsed": false,
     "input": [
      "ll"
     ],
     "language": "python",
     "metadata": {},
     "outputs": [
      {
       "output_type": "stream",
       "stream": "stdout",
       "text": [
        "total 24\r\n",
        "-rw-r--r--  1 zhigangwu  staff  3537 Apr  2 22:10 Untitled0.ipynb\r\n",
        "-rw-r--r--  1 zhigangwu  staff   170 Apr  2 22:06 lowQualAtTwoEnds.fastq\r\n",
        "-rw-r--r--  1 zhigangwu  staff   170 Apr  2 21:27 test.fastq\r\n"
       ]
      }
     ],
     "prompt_number": 42
    },
    {
     "cell_type": "markdown",
     "metadata": {},
     "source": [
      "see http://www.biopython.org/DIST/docs/api/Bio.SeqIO.QualityIO-module.html for explanation of differenct version of fastq"
     ]
    },
    {
     "cell_type": "code",
     "collapsed": false,
     "input": [
      "obj = SeqIO.parse(\"lowQualAtTwoEnds.fastq\", \"fastq\")\n",
      "rec = obj.next()\n",
      "rec2 = obj.next()"
     ],
     "language": "python",
     "metadata": {},
     "outputs": [],
     "prompt_number": 65
    },
    {
     "cell_type": "code",
     "collapsed": false,
     "input": [
      "rec.seq"
     ],
     "language": "python",
     "metadata": {},
     "outputs": [
      {
       "metadata": {},
       "output_type": "pyout",
       "prompt_number": 66,
       "text": [
        "Seq('AGATCGGAAGAGCTCGTATGCCGTCTTCTGCTTGAAAAAAAAAACAGACCAATCG', SingleLetterAlphabet())"
       ]
      }
     ],
     "prompt_number": 66
    },
    {
     "cell_type": "code",
     "collapsed": false,
     "input": [
      "print rec.letter_annotations.values()[0]"
     ],
     "language": "python",
     "metadata": {},
     "outputs": [
      {
       "output_type": "stream",
       "stream": "stdout",
       "text": [
        "[2, 2, 2, 38, 39, 39, 37, 2, 16, 39, 27, 37, 38, 37, 38, 38, 36, 23, 38, 35, 38, 38, 38, 37, 38, 39, 38, 39, 35, 39, 39, 39, 39, 35, 39, 39, 35, 36, 33, 37, 32, 32, 2, 2, 2, 2, 2, 2, 2, 2, 2, 2, 2, 2, 2]\n"
       ]
      }
     ],
     "prompt_number": 67
    },
    {
     "cell_type": "code",
     "collapsed": false,
     "input": [
      "print rec2.letter_annotations.values()[0]"
     ],
     "language": "python",
     "metadata": {},
     "outputs": [
      {
       "output_type": "stream",
       "stream": "stdout",
       "text": [
        "[2, 2, 2, 38, 39, 39, 37, 2, 12, 39, 27, 37, 38, 37, 38, 38, 36, 23, 38, 35, 38, 38, 38, 37, 38, 39, 38, 39, 35, 39, 39, 39, 39, 35, 39, 39, 35, 36, 33, 37, 32, 32, 2, 2, 2, 2, 2, 2, 2, 2, 2, 2, 2, 2, 2]\n"
       ]
      }
     ],
     "prompt_number": 68
    },
    {
     "cell_type": "code",
     "collapsed": false,
     "input": [
      "cat lowQualAtTwoEnds.fastq"
     ],
     "language": "python",
     "metadata": {},
     "outputs": [
      {
       "output_type": "stream",
       "stream": "stdout",
       "text": [
        "@SRR501584.3170956 length=55\r\n",
        "AGATCGGAAGAGCTCGTATGCCGTCTTCTGCTTGAAAAAAAAAACAGACCAATCG\r\n",
        "+SRR501584.3170956 length=55\r\n",
        "###GHHF#1H<FGFGGE8GDGGGFGHGHDHHHHDHHDEBFAA#############\r\n",
        "@SRR501584.3170956 length=55\r\n",
        "AGATCGGAAGAGCTCGTATGCCGTCTTCTGCTTGAAAAAAAAAACAGACCAATCG\r\n",
        "+SRR501584.3170956 length=55\r\n",
        "###GHHF#-H<FGFGGE8GDGGGFGHGHDHHHHDHHDEBFAA#############\r\n"
       ]
      }
     ],
     "prompt_number": 59
    },
    {
     "cell_type": "code",
     "collapsed": false,
     "input": [
      "!seqtk trimfq lowQualAtTwoEnds.fastq"
     ],
     "language": "python",
     "metadata": {},
     "outputs": [
      {
       "output_type": "stream",
       "stream": "stdout",
       "text": [
        "@SRR501584.3170956 length=55\r\n",
        "AGAGCTCGTATGCCGTCTTCTGCTTGAAAAAAAA\r\n",
        "+\r\n",
        "1H<FGFGGE8GDGGGFGHGHDHHHHDHHDEBFAA\r\n",
        "@SRR501584.3170956 length=55\r\n",
        "GAGCTCGTATGCCGTCTTCTGCTTGAAAAAAAA\r\n",
        "+\r\n",
        "H<FGFGGE8GDGGGFGHGHDHHHHDHHDEBFAA\r\n"
       ]
      }
     ],
     "prompt_number": 58
    },
    {
     "cell_type": "code",
     "collapsed": false,
     "input": [
      "len('AGAGCTCGTATGCCGTCTTCTGCTTGAAAAAAAA')"
     ],
     "language": "python",
     "metadata": {},
     "outputs": [
      {
       "metadata": {},
       "output_type": "pyout",
       "prompt_number": 74,
       "text": [
        "34"
       ]
      }
     ],
     "prompt_number": 74
    },
    {
     "cell_type": "markdown",
     "metadata": {},
     "source": [
      "In below you can see that the -l option is the length guarantee be retained, even though the \n",
      "retained bases may have error probability higher than 0.05"
     ]
    },
    {
     "cell_type": "code",
     "collapsed": false,
     "input": [
      "!seqtk trimfq -l 35 -q 0.05 lowQualAtTwoEnds.fastq"
     ],
     "language": "python",
     "metadata": {},
     "outputs": [
      {
       "output_type": "stream",
       "stream": "stdout",
       "text": [
        "@SRR501584.3170956 length=55\r\n",
        "TCGGAAGAGCTCGTATGCCGTCTTCTGCTTGAAAA\r\n",
        "+\r\n",
        "GHHF#1H<FGFGGE8GDGGGFGHGHDHHHHDHHDE\r\n",
        "@SRR501584.3170956 length=55\r\n",
        "TCGGAAGAGCTCGTATGCCGTCTTCTGCTTGAAAA\r\n",
        "+\r\n",
        "GHHF#-H<FGFGGE8GDGGGFGHGHDHHHHDHHDE\r\n"
       ]
      }
     ],
     "prompt_number": 79
    },
    {
     "cell_type": "code",
     "collapsed": false,
     "input": [
      "len('AGAGCTCGTATGCCGTCTTCTGCTTGAAAAAAAA')"
     ],
     "language": "python",
     "metadata": {},
     "outputs": [
      {
       "metadata": {},
       "output_type": "pyout",
       "prompt_number": 73,
       "text": [
        "34"
       ]
      }
     ],
     "prompt_number": 73
    },
    {
     "cell_type": "heading",
     "level": 1,
     "metadata": {},
     "source": [
      "Below, I want to test what if adaptors were not being removed from reads before aligning reads \n",
      "to reference"
     ]
    },
    {
     "cell_type": "code",
     "collapsed": false,
     "input": [
      "cp test.fastq adaptor.fastq\n",
      "# and do some editing to adaptor.fastq"
     ],
     "language": "python",
     "metadata": {},
     "outputs": []
    },
    {
     "cell_type": "code",
     "collapsed": false,
     "input": [
      "cat test.fastq\n"
     ],
     "language": "python",
     "metadata": {},
     "outputs": [
      {
       "output_type": "stream",
       "stream": "stdout",
       "text": [
        "@SRR501584.3170956 length=55\r\n",
        "AGATCGGAAGAGCTCGTATGCCGTCTTCTGCTTGAAAAAAAAAACAGACCAATCG\r\n",
        "+SRR501584.3170956 length=55\r\n",
        "HHHGHHFHHH<FGFGGE8GDGGGFGHGHDHHHHDHHDEBFAA#############\r\n"
       ]
      }
     ],
     "prompt_number": 80
    },
    {
     "cell_type": "code",
     "collapsed": false,
     "input": [
      "cat adaptor.fastq"
     ],
     "language": "python",
     "metadata": {},
     "outputs": [
      {
       "output_type": "stream",
       "stream": "stdout",
       "text": [
        "@SRR501584.3170956 length=55\r\n",
        "NNNNNNNNNNNGCTCGTATGCCGTCTTCTGCTTGAAAAAAAAAACNNNNNNNNNN\r\n",
        "+SRR501584.3170956 length=55\r\n",
        "HHHGHHFHHH<FGFGGE8GDGGGFGHGHDHHHHDHHDEBFAA#############\r\n"
       ]
      }
     ],
     "prompt_number": 81
    },
    {
     "cell_type": "raw",
     "metadata": {},
     "source": [
      "Below is the bwa version I used in this test"
     ]
    },
    {
     "cell_type": "code",
     "collapsed": false,
     "input": [
      "!bwa 2>&1 | head -n3"
     ],
     "language": "python",
     "metadata": {},
     "outputs": [
      {
       "output_type": "stream",
       "stream": "stdout",
       "text": [
        "\r\n",
        "Program: bwa (alignment via Burrows-Wheeler transformation)\r\n",
        "Version: 0.7.8-r455\r\n"
       ]
      }
     ],
     "prompt_number": 82
    },
    {
     "cell_type": "code",
     "collapsed": false,
     "input": [
      "!diff test.fastq reference.fa"
     ],
     "language": "python",
     "metadata": {},
     "outputs": [
      {
       "output_type": "stream",
       "stream": "stdout",
       "text": [
        "1c1\r\n",
        "< @SRR501584.3170956 length=55\r\n",
        "---\r\n",
        "> >pseudoGenome\r\n"
       ]
      }
     ],
     "prompt_number": 84
    },
    {
     "cell_type": "code",
     "collapsed": false,
     "input": [
      "!bwa index reference.fa"
     ],
     "language": "python",
     "metadata": {},
     "outputs": [
      {
       "output_type": "stream",
       "stream": "stdout",
       "text": [
        "[bwa_index] Pack FASTA... 0.00 sec\r\n",
        "[bwa_index] Construct BWT for the packed sequence...\r\n",
        "[bwa_index] 0.00 seconds elapse.\r\n",
        "[bwa_index] Update BWT... 0.00 sec\r\n",
        "[bwa_index] Pack forward-only FASTA... 0.00 sec\r\n",
        "[bwa_index] Construct SA from BWT and Occ... 0.00 sec\r\n",
        "[main] Version: 0.7.8-r455\r\n",
        "[main] CMD: bwa index reference.fa\r\n",
        "[main] Real time: 0.003 sec; CPU: 0.013 sec\r\n"
       ]
      }
     ],
     "prompt_number": 86
    },
    {
     "cell_type": "raw",
     "metadata": {},
     "source": [
      "Conclusion: as you can see below, leave adaptor in the reads untrimming do not prevent them from being \n",
      "mapped to genome (The adaptors are being soft clipped)."
     ]
    },
    {
     "cell_type": "code",
     "collapsed": false,
     "input": [
      "!bwa mem reference.fa adaptor.fastq"
     ],
     "language": "python",
     "metadata": {},
     "outputs": [
      {
       "output_type": "stream",
       "stream": "stdout",
       "text": [
        "@SQ\tSN:pseudoGenome\tLN:55\r\n",
        "@PG\tID:bwa\tPN:bwa\tVN:0.7.8-r455\tCL:bwa mem reference.fa adaptor.fastq\r\n",
        "[M::main_mem] read 1 sequences (55 bp)...\r\n",
        "[M::mem_process_seqs] Processed 1 reads in 0.000 CPU sec, 0.000 real sec\r\n",
        "SRR501584.3170956\t0\tpseudoGenome\t12\t60\t11S34M10S\t*\t0\t0\tNNNNNNNNNNNGCTCGTATGCCGTCTTCTGCTTGAAAAAAAAAACNNNNNNNNNN\tHHHGHHFHHH<FGFGGE8GDGGGFGHGHDHHHHDHHDEBFAA#############\tNM:i:0\tMD:Z:34\tAS:i:34\tXS:i:0\r\n",
        "[main] Version: 0.7.8-r455\r\n",
        "[main] CMD: bwa mem reference.fa adaptor.fastq\r\n",
        "[main] Real time: 0.001 sec; CPU: 0.010 sec\r\n"
       ]
      }
     ],
     "prompt_number": 87
    }
   ],
   "metadata": {}
  }
 ]
}